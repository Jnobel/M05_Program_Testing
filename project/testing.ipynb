{
 "cells": [
  {
   "cell_type": "markdown",
   "metadata": {},
   "source": [
    "project/\n",
    "├── my_sum/\n",
    "│   └── __init__.py\n",
    "└── test.py"
   ]
  },
  {
   "cell_type": "code",
   "execution_count": 1,
   "metadata": {},
   "outputs": [],
   "source": [
    "def sum(arg):\n",
    "    total = 0\n",
    "    for val in arg:\n",
    "        total += val\n",
    "    return total"
   ]
  },
  {
   "cell_type": "code",
   "execution_count": null,
   "metadata": {},
   "outputs": [],
   "source": [
    "import unittest\n",
    "from fractions import Fraction\n",
    "from my_sum import sum\n",
    "\n",
    "class TestSum(unittest.TestCase):\n",
    "    def test_list_int(self):\n",
    "        \"\"\"\n",
    "        Test that it can sum a list of integers\n",
    "        \"\"\"\n",
    "        data = [1, 2, 3]\n",
    "        result = sum(data)\n",
    "        self.assertEqual(result, 6)\n",
    "\n",
    "    def test_list_fraction(self):\n",
    "        \"\"\"\n",
    "        Test that it can sum a list of fractions\n",
    "        \"\"\"\n",
    "        data = [Fraction(1, 4), Fraction(1, 4), Fraction(2, 5)]\n",
    "        result = sum(data)\n",
    "        self.assertEqual(result, 1)  # Intentionally incorrect expectation\n",
    "\n",
    "if __name__ == '__main__':\n",
    "    unittest.main()"
   ]
  },
  {
   "cell_type": "markdown",
   "metadata": {},
   "source": [
    "Test Results Explanation\n",
    "The test results included two test cases designed to evaluate the functionality of the sum() function:\n",
    "\n",
    "test_list_int:\n",
    "\n",
    "Purpose: To verify that the sum() function correctly calculates the sum of a list of integers.\n",
    "Result: Pass. The function returned the expected value of 6 for the input [1, 2, 3]. This indicates that the sum() function is implemented correctly for integer inputs.\n",
    "test_list_fraction:\n",
    "\n",
    "Purpose: To check if the sum() function correctly handles and sums a list of fractions.\n",
    "Result: Fail. The function returned Fraction(9, 10) for the input [1/4, 1/4, 2/5], which is the mathematically correct result. However, the test case was incorrectly expecting the value to be 1. This indicates that the failure is due to an incorrect expectation in the test case rather than an issue with the function itself.\n",
    "Interpretation\n",
    "The passing test case confirms that the sum() function performs accurately when summing integers.\n",
    "The failing test case highlights the importance of ensuring test expectations match the correct mathematical logic. In this instance, the test failure does not indicate a problem with the function but rather a discrepancy in the expected output for the test.\n",
    "Conclusion\n",
    "The sum() function is functioning correctly for both integers and fractions. Adjusting the expected value in the test_list_fraction test case to Fraction(9, 10) would result in all tests passing. This demonstrates the importance of precise test expectations when performing unit testing."
   ]
  }
 ],
 "metadata": {
  "kernelspec": {
   "display_name": "Python 3",
   "language": "python",
   "name": "python3"
  },
  "language_info": {
   "codemirror_mode": {
    "name": "ipython",
    "version": 3
   },
   "file_extension": ".py",
   "mimetype": "text/x-python",
   "name": "python",
   "nbconvert_exporter": "python",
   "pygments_lexer": "ipython3",
   "version": "3.12.3"
  }
 },
 "nbformat": 4,
 "nbformat_minor": 2
}
